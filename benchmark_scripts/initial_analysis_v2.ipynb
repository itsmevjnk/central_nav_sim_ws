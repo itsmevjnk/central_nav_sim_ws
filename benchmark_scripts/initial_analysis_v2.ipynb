{
 "cells": [
  {
   "cell_type": "code",
   "execution_count": 20,
   "metadata": {},
   "outputs": [],
   "source": [
    "import numpy as np\n",
    "import pandas as pd\n",
    "import seaborn as sns\n",
    "import matplotlib.pyplot as plt"
   ]
  },
  {
   "cell_type": "code",
   "execution_count": null,
   "metadata": {},
   "outputs": [],
   "source": [
    "# import runs\n",
    "runs_df = pd.read_csv('runs.csv')\n",
    "runs_df.info()"
   ]
  },
  {
   "cell_type": "code",
   "execution_count": 22,
   "metadata": {},
   "outputs": [],
   "source": [
    "# remove orphaned runs\n",
    "grouped = runs_df.groupby(['session', 'run'])\n",
    "\n",
    "# Filter groups that have at least two different 'central' values\n",
    "filtered_groups = [group for name, group in grouped if group['central'].nunique() > 1]\n",
    "\n",
    "# Concatenate the filtered groups back into a single DataFrame\n",
    "runs_df = pd.concat(filtered_groups)"
   ]
  },
  {
   "cell_type": "code",
   "execution_count": 23,
   "metadata": {},
   "outputs": [],
   "source": [
    "# Fill has_ix values\n",
    "# runs_df['has_ix'] = runs_df.groupby(['session', 'run'])['has_ix'].transform(lambda x: x.ffill().bfill())"
   ]
  },
  {
   "cell_type": "code",
   "execution_count": null,
   "metadata": {},
   "outputs": [],
   "source": [
    "# get number of samples per num_robots\n",
    "runs_df.groupby(['num_robots', 'central'])['run'].count()"
   ]
  },
  {
   "cell_type": "code",
   "execution_count": null,
   "metadata": {},
   "outputs": [],
   "source": [
    "runs_df.head()"
   ]
  },
  {
   "cell_type": "code",
   "execution_count": 26,
   "metadata": {},
   "outputs": [],
   "source": [
    "# calculate per-run statistics\n",
    "runs_df['timed_out_robots'] = runs_df['num_robots'] - runs_df['successful_robots'] - runs_df['aborted_robots']\n",
    "runs_df['success_perc'] = runs_df['successful_robots'] / runs_df['num_robots'] * 100.0\n",
    "runs_df['failure_perc'] = 100.0 - runs_df['success_perc']\n",
    "runs_df['timeout_perc'] = runs_df['timed_out_robots'] / runs_df['num_robots'] * 100.0\n",
    "runs_df['abortion_perc'] = runs_df['aborted_robots'] / runs_df['num_robots'] * 100.0\n",
    "runs_df['collision_perc'] = runs_df['collided_robots'] / runs_df['num_robots'] * 100.0\n",
    "runs_df['robot_collision_perc'] = runs_df['robot_collided_robots'] / runs_df['num_robots'] * 100.0\n",
    "runs_df['static_collision_perc'] = runs_df['static_collided_robots'] / runs_df['num_robots'] * 100.0\n",
    "runs_df['robot_collisions_per_robot'] = runs_df['robot_collisions'] / runs_df['num_robots']\n",
    "runs_df['static_collisions_per_robot'] = runs_df['static_collisions'] / runs_df['num_robots']"
   ]
  },
  {
   "cell_type": "code",
   "execution_count": null,
   "metadata": {},
   "outputs": [],
   "source": [
    "# calculate statistics per (num_robots, central)\n",
    "\n",
    "runs_stats = runs_df.groupby(['num_robots', 'central']).agg({\n",
    "    'run': 'count',\n",
    "    'failure_perc': 'mean',\n",
    "    'timeout_perc': 'mean',\n",
    "    'abortion_perc': 'mean',\n",
    "    'collision_perc': 'mean',\n",
    "    'robot_collision_perc': 'mean',\n",
    "    'static_collision_perc': 'mean',\n",
    "    'robot_collisions_per_robot': 'mean',\n",
    "    'static_collisions_per_robot': 'mean',\n",
    "    'avg_nav_time': 'mean',\n",
    "    'max_nav_time': 'max'\n",
    "}).rename(columns={\n",
    "    'run': 'num_runs',\n",
    "    'failure_perc': 'avg_failure_perc',\n",
    "    'timeout_perc': 'avg_timeout_perc',\n",
    "    'abortion_perc': 'avg_abortion_perc',\n",
    "    'collision_perc': 'avg_collision_perc',\n",
    "    'robot_collision_perc': 'avg_robot_collision_perc',\n",
    "    'static_collision_perc': 'avg_static_collision_perc',\n",
    "    'robot_collisions_per_robot': 'avg_r2r_collisions',\n",
    "    'static_collisions_per_robot': 'avg_r2o_collisions'\n",
    "})\n",
    "\n",
    "runs_stats"
   ]
  },
  {
   "cell_type": "code",
   "execution_count": null,
   "metadata": {},
   "outputs": [],
   "source": [
    "sns.barplot(runs_stats, y='avg_failure_perc', x='num_robots', hue='central')\n",
    "plt.ylabel('Mean failure rate (%)')\n",
    "plt.xlabel('Number of robots')"
   ]
  },
  {
   "cell_type": "markdown",
   "metadata": {},
   "source": [
    "The mean failure rate is calculated as the mean of failure rates across runs with the same `num_robots` and `central`. A robot is considered to fail if it does not reach its destination upon the timeout (which can be caused by either timeouts or Nav2 navigation abortions)."
   ]
  },
  {
   "cell_type": "code",
   "execution_count": null,
   "metadata": {},
   "outputs": [],
   "source": [
    "sns.barplot(runs_stats, y='avg_timeout_perc', x='num_robots', hue='central')\n",
    "plt.ylabel('Mean timeout rate (%)')\n",
    "plt.xlabel('Number of robots')"
   ]
  },
  {
   "cell_type": "code",
   "execution_count": null,
   "metadata": {},
   "outputs": [],
   "source": [
    "sns.barplot(runs_stats, y='avg_abortion_perc', x='num_robots', hue='central')\n",
    "plt.ylabel('Mean Nav2 goal abortion rate (%)')\n",
    "plt.xlabel('Number of robots')"
   ]
  },
  {
   "cell_type": "code",
   "execution_count": null,
   "metadata": {},
   "outputs": [],
   "source": [
    "sns.barplot(runs_stats, y='avg_robot_collision_perc', x='num_robots', hue='central')\n",
    "plt.ylabel('Mean robot versus robot collision rate (%)')\n",
    "plt.xlabel('Number of robots')"
   ]
  },
  {
   "cell_type": "code",
   "execution_count": null,
   "metadata": {},
   "outputs": [],
   "source": [
    "sns.barplot(runs_stats, y='avg_r2r_collisions', x='num_robots', hue='central')\n",
    "plt.ylabel('Mean robot collision count per robot')\n",
    "plt.xlabel('Number of robots')"
   ]
  },
  {
   "cell_type": "code",
   "execution_count": null,
   "metadata": {},
   "outputs": [],
   "source": [
    "sns.barplot(runs_stats, y='avg_r2o_collisions', x='num_robots', hue='central')\n",
    "plt.ylabel('Mean object collision count per robot')\n",
    "plt.xlabel('Number of robots')"
   ]
  },
  {
   "cell_type": "code",
   "execution_count": null,
   "metadata": {},
   "outputs": [],
   "source": [
    "sns.barplot(runs_stats, y='avg_nav_time', x='num_robots', hue='central')\n",
    "plt.ylabel('Mean navigation time of successful robots (sec)')\n",
    "plt.xlabel('Number of robots')"
   ]
  },
  {
   "cell_type": "code",
   "execution_count": null,
   "metadata": {},
   "outputs": [],
   "source": [
    "sns.barplot(runs_stats, y='max_nav_time', x='num_robots', hue='central')\n",
    "plt.ylabel('Maximum navigation time of successful robots (sec)')\n",
    "plt.xlabel('Number of robots')"
   ]
  },
  {
   "cell_type": "code",
   "execution_count": null,
   "metadata": {},
   "outputs": [],
   "source": [
    "no_timeout_runs = runs_df[runs_df['timed_out_robots'] == 0]\n",
    "highest_failure_rate_runs = no_timeout_runs.loc[no_timeout_runs.groupby(['num_robots', 'central'])['failure_perc'].idxmax()].sort_values(by=['num_robots', 'central'])\n",
    "highest_failure_rate_runs"
   ]
  },
  {
   "cell_type": "code",
   "execution_count": null,
   "metadata": {},
   "outputs": [],
   "source": [
    "most_collided_runs = no_timeout_runs.loc[no_timeout_runs.groupby(['num_robots', 'central'])['robot_collisions'].idxmax()].sort_values(by=['num_robots', 'central'])\n",
    "most_collided_runs"
   ]
  },
  {
   "cell_type": "code",
   "execution_count": null,
   "metadata": {},
   "outputs": [],
   "source": [
    "# robot collision stats\n",
    "runs_df.groupby(['num_robots', 'central'])[['robot_collisions', 'static_collisions']].agg(['max', 'mean', 'median'])"
   ]
  }
 ],
 "metadata": {
  "kernelspec": {
   "display_name": "Python 3",
   "language": "python",
   "name": "python3"
  },
  "language_info": {
   "codemirror_mode": {
    "name": "ipython",
    "version": 3
   },
   "file_extension": ".py",
   "mimetype": "text/x-python",
   "name": "python",
   "nbconvert_exporter": "python",
   "pygments_lexer": "ipython3",
   "version": "3.10.12"
  }
 },
 "nbformat": 4,
 "nbformat_minor": 2
}
