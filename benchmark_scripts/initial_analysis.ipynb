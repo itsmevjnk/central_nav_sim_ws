{
 "cells": [
  {
   "cell_type": "code",
   "execution_count": 60,
   "metadata": {},
   "outputs": [],
   "source": [
    "import numpy as np\n",
    "import pandas as pd\n",
    "import seaborn as sns\n",
    "import matplotlib.pyplot as plt"
   ]
  },
  {
   "cell_type": "code",
   "execution_count": null,
   "metadata": {},
   "outputs": [],
   "source": [
    "runs = pd.read_csv('runs.csv')\n",
    "runs"
   ]
  },
  {
   "cell_type": "code",
   "execution_count": null,
   "metadata": {},
   "outputs": [],
   "source": [
    "runs[runs['successful_robots'] != runs['collided_robots']]"
   ]
  },
  {
   "cell_type": "code",
   "execution_count": null,
   "metadata": {},
   "outputs": [],
   "source": [
    "runs['failure_rate'] = (1 - runs['successful_robots'] / runs['num_robots']) * 100\n",
    "runs['collision_rate'] = runs['collided_robots'] / runs['num_robots'] * 100\n",
    "runs"
   ]
  },
  {
   "cell_type": "code",
   "execution_count": null,
   "metadata": {},
   "outputs": [],
   "source": [
    "runs['central_has_ix'] = runs.apply(lambda row: runs[(runs['session'] == row['session']) & (runs['run'] == row['run']) & (runs['central'] == True)].iloc[0]['has_ix'], axis=1)\n",
    "runs"
   ]
  },
  {
   "cell_type": "code",
   "execution_count": null,
   "metadata": {},
   "outputs": [],
   "source": [
    "stats = runs[runs['central_has_ix'] == True].groupby(['num_robots', 'central'])[['failure_rate', 'collision_rate', 'avg_nav_time']].mean()\n",
    "stats"
   ]
  },
  {
   "cell_type": "code",
   "execution_count": null,
   "metadata": {},
   "outputs": [],
   "source": [
    "stats_reset = stats.reset_index()\n",
    "stats_reset\n",
    "\n",
    "sns.barplot(stats_reset, y='failure_rate', x='num_robots', hue='central')\n",
    "plt.xlabel('Number of robots')\n",
    "plt.ylabel('Navigation failure rate (%)')\n",
    "plt.legend().set_title('Using central node')\n",
    "plt.tight_layout()"
   ]
  },
  {
   "cell_type": "code",
   "execution_count": null,
   "metadata": {},
   "outputs": [],
   "source": [
    "sns.barplot(stats_reset, y='collision_rate', x='num_robots', hue='central')\n",
    "plt.xlabel('Number of robots')\n",
    "plt.ylabel('Collision rate (%)')\n",
    "plt.legend().set_title('Using central node')\n",
    "plt.tight_layout()"
   ]
  },
  {
   "cell_type": "code",
   "execution_count": null,
   "metadata": {},
   "outputs": [],
   "source": [
    "sns.barplot(stats_reset, y='avg_nav_time', x='num_robots', hue='central')\n",
    "plt.xlabel('Number of robots')\n",
    "plt.ylabel('Mean navigation time of successful robots (sec)')\n",
    "plt.legend().set_title('Using central node')\n",
    "plt.tight_layout()"
   ]
  }
 ],
 "metadata": {
  "kernelspec": {
   "display_name": "Python 3",
   "language": "python",
   "name": "python3"
  },
  "language_info": {
   "codemirror_mode": {
    "name": "ipython",
    "version": 3
   },
   "file_extension": ".py",
   "mimetype": "text/x-python",
   "name": "python",
   "nbconvert_exporter": "python",
   "pygments_lexer": "ipython3",
   "version": "3.10.12"
  }
 },
 "nbformat": 4,
 "nbformat_minor": 2
}
