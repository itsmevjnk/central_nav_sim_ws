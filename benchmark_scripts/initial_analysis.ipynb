{
 "cells": [
  {
   "cell_type": "code",
   "execution_count": 126,
   "metadata": {},
   "outputs": [],
   "source": [
    "import numpy as np\n",
    "import pandas as pd\n",
    "import seaborn as sns\n",
    "import matplotlib.pyplot as plt"
   ]
  },
  {
   "cell_type": "code",
   "execution_count": null,
   "metadata": {},
   "outputs": [],
   "source": [
    "runs = pd.read_csv('runs.csv')\n",
    "runs"
   ]
  },
  {
   "cell_type": "code",
   "execution_count": 128,
   "metadata": {},
   "outputs": [],
   "source": [
    "runs = runs[runs['avg_nav_time'].notna()]"
   ]
  },
  {
   "cell_type": "code",
   "execution_count": null,
   "metadata": {},
   "outputs": [],
   "source": [
    "runs.groupby(['num_robots', 'central'])['central'].count()"
   ]
  },
  {
   "cell_type": "code",
   "execution_count": null,
   "metadata": {},
   "outputs": [],
   "source": [
    "runs[runs['successful_robots'] != runs['collided_robots']]"
   ]
  },
  {
   "cell_type": "code",
   "execution_count": null,
   "metadata": {},
   "outputs": [],
   "source": [
    "runs['failure_rate'] = (1 - runs['successful_robots'] / runs['num_robots']) * 100\n",
    "runs['collision_rate'] = runs['collided_robots'] / runs['num_robots'] * 100\n",
    "runs['static_collision_rate'] = runs['static_collided_robots'] / runs['num_robots'] * 100\n",
    "runs['robot_collision_rate'] = runs['robot_collided_robots'] / runs['num_robots'] * 100\n",
    "runs"
   ]
  },
  {
   "cell_type": "code",
   "execution_count": 132,
   "metadata": {},
   "outputs": [],
   "source": [
    "runs = runs.drop(runs[runs['avg_nav_time'] > 120.0].index)"
   ]
  },
  {
   "cell_type": "code",
   "execution_count": 133,
   "metadata": {},
   "outputs": [],
   "source": [
    "grouped = runs.groupby(['session', 'run'])\n",
    "\n",
    "# Filter groups that have at least two different 'central' values\n",
    "filtered_groups = [group for name, group in grouped if group['central'].nunique() > 1]\n",
    "\n",
    "# Concatenate the filtered groups back into a single DataFrame\n",
    "runs = pd.concat(filtered_groups)"
   ]
  },
  {
   "cell_type": "code",
   "execution_count": null,
   "metadata": {},
   "outputs": [],
   "source": [
    "runs[runs['central'] == True].groupby(['num_robots'])[['num_robots']].count()"
   ]
  },
  {
   "cell_type": "code",
   "execution_count": null,
   "metadata": {},
   "outputs": [],
   "source": [
    "runs['central_has_ix'] = runs.apply(lambda row: runs[(runs['session'] == row['session']) & (runs['run'] == row['run']) & (runs['central'] == True)].iloc[0]['has_ix'], axis=1)\n",
    "runs"
   ]
  },
  {
   "cell_type": "code",
   "execution_count": null,
   "metadata": {},
   "outputs": [],
   "source": [
    "runs.groupby(['num_robots', 'central'])['central'].count()"
   ]
  },
  {
   "cell_type": "code",
   "execution_count": null,
   "metadata": {},
   "outputs": [],
   "source": [
    "stats = runs[runs['central_has_ix'] == True].groupby(['num_robots', 'central'])[['failure_rate', 'collision_rate', 'static_collision_rate', 'robot_collision_rate', 'avg_nav_time']].mean()\n",
    "stats"
   ]
  },
  {
   "cell_type": "code",
   "execution_count": null,
   "metadata": {},
   "outputs": [],
   "source": [
    "stats_reset = stats.reset_index()\n",
    "stats_reset\n",
    "\n",
    "sns.barplot(stats_reset, y='failure_rate', x='num_robots', hue='central')\n",
    "plt.xlabel('Number of robots')\n",
    "plt.ylabel('Navigation failure rate (%)')\n",
    "plt.legend().set_title('Using central node')\n",
    "plt.tight_layout()"
   ]
  },
  {
   "cell_type": "code",
   "execution_count": null,
   "metadata": {},
   "outputs": [],
   "source": [
    "sns.barplot(stats_reset, y='collision_rate', x='num_robots', hue='central')\n",
    "plt.xlabel('Number of robots')\n",
    "plt.ylabel('Collision rate (%)')\n",
    "plt.legend().set_title('Using central node')\n",
    "plt.tight_layout()"
   ]
  },
  {
   "cell_type": "code",
   "execution_count": null,
   "metadata": {},
   "outputs": [],
   "source": [
    "sns.barplot(stats_reset, y='static_collision_rate', x='num_robots', hue='central')\n",
    "plt.xlabel('Number of robots')\n",
    "plt.ylabel('Robot-versus-object collision rate (%)')\n",
    "plt.legend().set_title('Using central node')\n",
    "plt.tight_layout()"
   ]
  },
  {
   "cell_type": "code",
   "execution_count": null,
   "metadata": {},
   "outputs": [],
   "source": [
    "sns.barplot(stats_reset, y='robot_collision_rate', x='num_robots', hue='central')\n",
    "plt.xlabel('Number of robots')\n",
    "plt.ylabel('Robot-versus-robot collision rate (%)')\n",
    "plt.legend().set_title('Using central node')\n",
    "plt.tight_layout()"
   ]
  },
  {
   "cell_type": "code",
   "execution_count": null,
   "metadata": {},
   "outputs": [],
   "source": [
    "sns.barplot(stats_reset, y='avg_nav_time', x='num_robots', hue='central')\n",
    "plt.xlabel('Number of robots')\n",
    "plt.ylabel('Mean navigation time of successful robots (sec)')\n",
    "plt.legend().set_title('Using central node')\n",
    "plt.tight_layout()"
   ]
  }
 ],
 "metadata": {
  "kernelspec": {
   "display_name": "Python 3",
   "language": "python",
   "name": "python3"
  },
  "language_info": {
   "codemirror_mode": {
    "name": "ipython",
    "version": 3
   },
   "file_extension": ".py",
   "mimetype": "text/x-python",
   "name": "python",
   "nbconvert_exporter": "python",
   "pygments_lexer": "ipython3",
   "version": "3.10.12"
  }
 },
 "nbformat": 4,
 "nbformat_minor": 2
}
