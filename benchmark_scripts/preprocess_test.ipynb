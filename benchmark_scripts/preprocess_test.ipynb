{
 "cells": [
  {
   "cell_type": "code",
   "execution_count": 11,
   "metadata": {},
   "outputs": [],
   "source": [
    "import pandas as pd\n",
    "import numpy as np"
   ]
  },
  {
   "cell_type": "code",
   "execution_count": 12,
   "metadata": {},
   "outputs": [],
   "source": [
    "SESSION=\"20250206_084858-world_8x-5rbt\"\n",
    "RUN=\"20250206_092928-central\""
   ]
  },
  {
   "cell_type": "code",
   "execution_count": null,
   "metadata": {},
   "outputs": [],
   "source": [
    "session_stamp, _, num_robots = SESSION.split('-')\n",
    "num_robots = int(num_robots.removesuffix('rbt'))\n",
    "run_stamp, central = RUN.split('-')\n",
    "central = (central == 'central')\n",
    "run_path = f'{SESSION}/{RUN}'\n",
    "\n",
    "print(f'{run_path}: run stamp {run_stamp} with {num_robots} robots, centralised node running: {central}')"
   ]
  },
  {
   "cell_type": "code",
   "execution_count": null,
   "metadata": {},
   "outputs": [],
   "source": [
    "from typing import NamedTuple\n",
    "class TelemetryLine(NamedTuple):\n",
    "    timestamp: float\n",
    "    node: str\n",
    "    content: list[str]\n",
    "\n",
    "# read telemetry log\n",
    "telemetry: list[TelemetryLine] = []\n",
    "with open(f'{run_path}/telemetry.log', 'r') as f:\n",
    "    for line in f:\n",
    "        nanosec, node, content = line.strip().split(':')\n",
    "        telemetry.append(TelemetryLine(float(nanosec) / 1e9, node, content.split(',')))\n",
    "print(f'telemetry has {len(telemetry)} lines')"
   ]
  },
  {
   "cell_type": "code",
   "execution_count": null,
   "metadata": {},
   "outputs": [],
   "source": [
    "# determine if there is any intersection detected\n",
    "has_ix = None # none for central=False\n",
    "if central:\n",
    "    has_ix = False\n",
    "    for line in telemetry:\n",
    "        if line.node == 'central_nav' and line.content[0] == 'ix':\n",
    "            cnt = int(line.content[1])\n",
    "            if cnt > 0:\n",
    "                has_ix = True\n",
    "                break\n",
    "print(f'has intersections: {has_ix}')"
   ]
  },
  {
   "cell_type": "code",
   "execution_count": null,
   "metadata": {},
   "outputs": [],
   "source": [
    "# gather individual robots' telemetry\n",
    "robots_tmp: dict[str, dict] = {\n",
    "    f'robot{i}': {\n",
    "        'collided': False,\n",
    "        'nav_status': 0, # latest nav2 status7\n",
    "        'nav_status_stamp': -1, # latest nav2 status timestamp\n",
    "        'nav_time': -1, # navigation time (except pause)\n",
    "        'nav_start_stamp': -1, # navigation start timestamp\n",
    "        'nav_time_total': -1, # total navigation time, from start to finish\n",
    "        'nav_failed': False, # set if navigation failed\n",
    "        'cmdvel_status': False, # actual robot movement status\n",
    "        'cmdvel_status_stamp': -1, # and its corresponding timestamp\n",
    "        'cmdvel_time': -1, # actual robot movement time (except pause)\n",
    "        'moving': True, # move command from central node\n",
    "        'moving_stamp': -1, # corresponding timestamp\n",
    "        'pause_time': 0, # navigation pause time\n",
    "        'success': False, # whether robot successfully navigated to destination (successful nav status)\n",
    "        'cmd_stopped': False # set if the robot was ever stopped during navigation\n",
    "    }\n",
    "    for i in range(num_robots)\n",
    "}\n",
    "for (stamp, node, content) in telemetry:\n",
    "    if node == 'central_nav' and content[0] == 'ix': continue # ignore intersection log\n",
    "    robot = robots_tmp[content[0]]\n",
    "    if node == 'pose_telemetry': # collision detection\n",
    "        if robot['nav_start_stamp'] >= 0: # only care about collisions after the robot has started moving\n",
    "            robot['collided'] |= (content[1] == 'True')\n",
    "    elif node == 'state_telemetry': # nav2 state\n",
    "        status = int(content[-1])\n",
    "        if status < 4: # active\n",
    "            if robot['nav_start_stamp'] < 0:\n",
    "                robot['nav_start_stamp'] = stamp # navigation start\n",
    "        else: # not active\n",
    "            if robot['nav_status_stamp'] >= 0:\n",
    "                if robot['nav_time'] < 0: robot['nav_time'] = 0\n",
    "                robot['nav_time'] += stamp - robot['nav_status_stamp'] # one more navigation section\n",
    "                if status == 4: # success\n",
    "                    robot['success'] = True\n",
    "                if status == 6: # failed\n",
    "                    robot['nav_failed'] = True\n",
    "                if status == 4 or status == 6: # success or aborted (robot will no longer be moving anymore)\n",
    "                    # print(f'{content[0]}: navigation completed ({robot[\"nav_start_stamp\"]} - {stamp})')\n",
    "                    robot['nav_time_total'] = stamp - robot['nav_start_stamp']\n",
    "        robot['nav_status'] = status\n",
    "        robot['nav_status_stamp'] = stamp\n",
    "    elif node == 'cmdvel_telemetry': # cmdvel state\n",
    "        moving = content[-1] == 'True'\n",
    "        if not moving and robot['cmdvel_status'] and robot['cmdvel_status_stamp'] >= 0: # robot's stopped moving\n",
    "            if robot['cmdvel_time'] < 0: robot['cmdvel_time'] = 0\n",
    "            robot['cmdvel_time'] += stamp - robot['cmdvel_status_stamp']\n",
    "        robot['cmdvel_status'] = moving; robot['cmdvel_status_stamp'] = stamp\n",
    "    elif node == 'central_nav': # central node command\n",
    "        moving = content[-1] == 'True'\n",
    "        if moving and not robot['moving'] and robot['moving_stamp'] >= 0: # robot's started moving again\n",
    "            robot['pause_time'] += stamp - robot['moving_stamp']\n",
    "        if not moving:\n",
    "            robot['cmd_stopped'] = True\n",
    "        robot['moving'] = moving; robot['moving_stamp'] = stamp\n",
    "\n",
    "for robot in robots_tmp:\n",
    "    print(f'{robot}: {robots_tmp[robot]}')\n"
   ]
  },
  {
   "cell_type": "code",
   "execution_count": 17,
   "metadata": {},
   "outputs": [],
   "source": [
    "runs = []\n",
    "run_robots = []"
   ]
  },
  {
   "cell_type": "code",
   "execution_count": 18,
   "metadata": {},
   "outputs": [],
   "source": [
    "# add to lists\n",
    "runs.append({\n",
    "    'session': session_stamp,\n",
    "    'run': run_stamp,\n",
    "    'central': central,\n",
    "    'num_robots': num_robots,\n",
    "    'has_ix': has_ix,\n",
    "    'successful_robots': len([r for r in robots_tmp.values() if r['success']]),\n",
    "    'collided_robots': len([r for r in robots_tmp.values() if r['success']]),\n",
    "    'stopped_robots': len([r for r in robots_tmp.values() if r['cmd_stopped']])\n",
    "})\n",
    "\n",
    "run_robots.extend([\n",
    "    {\n",
    "        'session': session_stamp,\n",
    "        'run': run_stamp,\n",
    "        'central': central,\n",
    "        'robot': robot,\n",
    "        'collided': robots_tmp[robot]['collided'],\n",
    "        'nav_time': robots_tmp[robot]['nav_time'],\n",
    "        'nav_time_total': robots_tmp[robot]['nav_time_total'],\n",
    "        'cmdvel_time': robots_tmp[robot]['cmdvel_time'],\n",
    "        'pause_time': robots_tmp[robot]['pause_time'],\n",
    "        'success': robots_tmp[robot]['success'],\n",
    "        'cmd_stopped': robots_tmp[robot]['cmd_stopped'],\n",
    "    } for robot in robots_tmp\n",
    "])"
   ]
  },
  {
   "cell_type": "code",
   "execution_count": null,
   "metadata": {},
   "outputs": [],
   "source": [
    "# convert robot info to dataframe\n",
    "run_robots_df = pd.DataFrame(run_robots).infer_objects(copy=False).replace(-1, np.nan)\n",
    "run_robots_df"
   ]
  },
  {
   "cell_type": "code",
   "execution_count": null,
   "metadata": {},
   "outputs": [],
   "source": [
    "# convert run information to dataframe\n",
    "runs_df = pd.DataFrame(runs)\n",
    "runs_df"
   ]
  }
 ],
 "metadata": {
  "kernelspec": {
   "display_name": "Python 3",
   "language": "python",
   "name": "python3"
  },
  "language_info": {
   "codemirror_mode": {
    "name": "ipython",
    "version": 3
   },
   "file_extension": ".py",
   "mimetype": "text/x-python",
   "name": "python",
   "nbconvert_exporter": "python",
   "pygments_lexer": "ipython3",
   "version": "3.10.12"
  }
 },
 "nbformat": 4,
 "nbformat_minor": 2
}
